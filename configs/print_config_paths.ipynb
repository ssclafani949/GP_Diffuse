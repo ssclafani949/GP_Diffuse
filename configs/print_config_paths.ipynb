{
 "cells": [
  {
   "cell_type": "code",
   "execution_count": 1,
   "metadata": {},
   "outputs": [],
   "source": [
    "import os\n",
    "import numpy as np"
   ]
  },
  {
   "cell_type": "code",
   "execution_count": 3,
   "metadata": {},
   "outputs": [
    {
     "name": "stdout",
     "output_type": "stream",
     "text": [
      "['asimov_Tracks_Poisson.yaml', 'asimov_Poisson.yaml', 'pseudoexp_Poisson.yaml', 'asimov_Poisson_gal.yaml', 'asimov_Poisson_gal_FM-const.yaml', 'pseudoexp_eventwise_Poisson.yaml', 'asimov_DNNCascade_Poisson.yaml', 'pseudo_data_Poisson.yaml', 'asimov_Globalfit_Poisson.yaml', 'asimov_Say.yaml', 'asimov_Poisson_gal_kragamma.yaml']\n",
      "['main_piecewise.cfg', 'main_BPL_galactic_FMc.cfg', 'main2.cfg', 'splitted_main.cfg', 'main_galactic_fermi.cfg', 'main_galactic_FMc.cfg', 'main_snowstorm.cfg', 'main_galactic_kg50.cfg', 'main_discrete.cfg', 'main_all_galactic_models.cfg']\n",
      "['SnowStorm_Baseline.cfg', '2_ra_bins.cfg', 'galactic_hist_creation', 'two_galactic_models', '2D_to_3DBinning.cfg', 'only_fluxless.cfg', 'old', 'hist_components_off.cfg', 'galactic_off.cfg', 'systematics_for_calc_grad.cfg', 'systematics_off.cfg', 'galactic_models', '3DBinning.cfg', 'SnowStorm_v1.cfg', 'create_configs.ipynb']\n",
      "['galactic_hist_creation/fm_snr.cfg', 'galactic_hist_creation/fermi.cfg', 'galactic_hist_creation/cringe.cfg', 'galactic_hist_creation/fm_const.cfg', 'galactic_hist_creation/kra50.cfg', 'galactic_hist_creation/kra5.cfg']\n",
      "['two_galactic_models/inject_FangMuraseSNR_fit_Cringe.cfg', 'two_galactic_models/inject_FangMuraseConstant_fit_FangMuraseSNR.cfg', 'two_galactic_models/inject_kraGamma5_fit_Cringe.cfg', 'two_galactic_models/inject_kraGamma50_fit_FangMuraseSNR.cfg', 'two_galactic_models/inject_Cringe_fit_kraGamma50.cfg', 'two_galactic_models/inject_fermi_fit_fermi.cfg', 'two_galactic_models/inject_kraGamma5_fit_kraGamma50.cfg', 'two_galactic_models/inject_kraGamma50_fit_fermi.cfg', 'two_galactic_models/inject_FangMuraseConstant_fit_fermi.cfg', 'two_galactic_models/inject_FangMuraseSNR_fit_FangMuraseConstant.cfg', 'two_galactic_models/inject_fermi_fit_kraGamma5.cfg', 'two_galactic_models/inject_Cringe_fit_FangMuraseSNR.cfg', 'two_galactic_models/inject_fermi_fit_FangMuraseConstant.cfg', 'two_galactic_models/inject_Cringe_fit_Cringe.cfg', 'two_galactic_models/inject_FangMuraseSNR_fit_FangMuraseSNR.cfg', 'two_galactic_models/inject_Cringe_fit_FangMuraseConstant.cfg', 'two_galactic_models/inject_FangMuraseSNR_fit_kraGamma5.cfg', 'two_galactic_models/inject_fermi_fit_FangMuraseSNR.cfg', 'two_galactic_models/inject_kraGamma50_fit_Cringe.cfg', 'two_galactic_models/inject_kraGamma50_fit_kraGamma5.cfg', 'two_galactic_models/inject_FangMuraseSNR_fit_kraGamma50.cfg', 'two_galactic_models/inject_Cringe_fit_fermi.cfg', 'two_galactic_models/inject_kraGamma5_fit_FangMuraseSNR.cfg', 'two_galactic_models/inject_FangMuraseConstant_fit_kraGamma5.cfg', 'two_galactic_models/inject_kraGamma5_fit_FangMuraseConstant.cfg', 'two_galactic_models/inject_fermi_fit_Cringe.cfg', 'two_galactic_models/inject_kraGamma50_fit_kraGamma50.cfg', 'two_galactic_models/inject_Cringe_fit_kraGamma5.cfg', 'two_galactic_models/inject_kraGamma5_fit_kraGamma5.cfg', 'two_galactic_models/inject_FangMuraseConstant_fit_kraGamma50.cfg', 'two_galactic_models/inject_kraGamma50_fit_FangMuraseConstant.cfg', 'two_galactic_models/inject_FangMuraseConstant_fit_FangMuraseConstant.cfg', 'two_galactic_models/inject_FangMuraseSNR_fit_fermi.cfg', 'two_galactic_models/inject_fermi_fit_kraGamma50.cfg', 'two_galactic_models/inject_kraGamma5_fit_fermi.cfg', 'two_galactic_models/inject_FangMuraseConstant_fit_Cringe.cfg']\n",
      "['old/oversampling_2.cfg', 'old/oversampling_5.cfg', 'old/ra_binning30.cfg', 'old/oversampling_20.cfg', 'old/oversampling_60.cfg', 'old/Compare_datasets.ipynb', 'old/ds21047.cfg', 'old/setA_setB.cfg', 'old/ra_binning180.cfg', 'old/e_binning', 'old/ra_box_2.cfg', 'old/setB_setA.cfg', 'old/ra_box_10.cfg', 'old/ice_sys_off.cfg', 'old/galactic_box.cfg', 'old/ra_binning20.cfg', 'old/oversampling_30.cfg', 'old/ra_binning1.cfg', 'old/fermi.cfg', 'old/kragamma.cfg', 'old/ra_binning60.cfg', 'old/oversampling_90.cfg', 'old/z_binning', 'old/ra_binning2.cfg', 'old/ra_binning5.cfg', 'old/pseudodata', 'old/oversampling_10.cfg', 'old/pseudodata_2', 'old/oversampling_180.cfg', 'old/make_cfg.ipynb', 'old/ra_binning10.cfg', 'old/setA_setA.cfg', 'old/different_galactic_models', 'old/setB_setB.cfg', 'old/ra_box_5of10.cfg', 'old/ra_binning90.cfg', 'old/oversampling_1.cfg']\n",
      "['galactic_models/kraGamma50.cfg', 'galactic_models/FangMuraseSNR.cfg', 'galactic_models/FangMuraseConstant.cfg', 'galactic_models/kraGamma5.cfg', 'galactic_models/fermi.cfg', 'galactic_models/Cringe.cfg']\n"
     ]
    }
   ],
   "source": [
    "print(os.listdir(\"analysis_configs\"))\n",
    "print(os.listdir(\"main_configs\"))\n",
    "print(os.listdir(\"override_configs\"))\n",
    "for i in os.listdir(\"override_configs\"):\n",
    "    if \".\" not in i:\n",
    "        print([i+\"/\"+j for j in os.listdir(f\"override_configs/{i}\")])\n"
   ]
  },
  {
   "cell_type": "code",
   "execution_count": 3,
   "metadata": {},
   "outputs": [
    {
     "name": "stdout",
     "output_type": "stream",
     "text": [
      "--main_config /home/jhellrung/NNMFit_stuff/configs/main_configs/main_snowstorm.cfg --analysis_config /home/jhellrung/NNMFit_stuff/configs/analysis_configs/asimov_Globalfit_Poisson_mismodeling.yaml --config_dir /home/jhellrung/NNMFit_stuff/configs --override_configs /home/jhellrung/NNMFit_stuff/configs/override_configs/2D_to_3DBinning.cfg /home/jhellrung/NNMFit_stuff/configs/override_configs/galactic_models/Cringe.cfg \n"
     ]
    }
   ],
   "source": [
    "analysis=np.array([\n",
    " 0*'asimov_Tracks_Poisson.yaml',\n",
    " 0*'asimov_Globalfit_Poisson.yaml',\n",
    " 1*'asimov_Globalfit_Poisson_mismodeling.yaml',\n",
    " 0*'asimov_Poisson.yaml',\n",
    " 0*'pseudoexp_Poisson.yaml',\n",
    " 0*'asimov_Poisson_gal.yaml',\n",
    " 0*'asimov_Poisson_gal_FM-const.yaml',\n",
    " 0*'pseudoexp_eventwise_Poisson.yaml',\n",
    " 0*'pseudo_data_Poisson.yaml',\n",
    " 0*'asimov_Say.yaml',\n",
    " 0*'asimov_Poisson_gal_kragamma.yaml'])\n",
    "main=np.array([\n",
    " 0*'main_piecewise.cfg',\n",
    " 0*'main_BPL_galactic_FMc.cfg',\n",
    " 0*'main2.cfg',\n",
    " 0*'splitted_main.cfg',\n",
    " 0*'main_galactic_fermi.cfg',\n",
    " 0*'main_galactic_FMc.cfg',\n",
    " 1*'main_snowstorm.cfg',\n",
    " 0*'main_galactic_kg50.cfg',\n",
    " 0*'main_discrete.cfg',\n",
    " 0*'main_all_galactic_models.cfg'])\n",
    "override=np.array([\n",
    " 0*'SnowStorm_Baseline.cfg',\n",
    " 1*'2D_to_3DBinning.cfg',\n",
    " 0*'hist_components_off.cfg',\n",
    " 0*'systematics_off.cfg',\n",
    " 0*'3DBinning.cfg',\n",
    " 0*'SnowStorm_v1.cfg',\n",
    " 0*'galactic_hist_creation/fermi.cfg',\n",
    " 1*'galactic_models/Cringe.cfg'])\n",
    "\n",
    "main=main[main!=\"\"][0]\n",
    "analysis=analysis[analysis!=\"\"][0]\n",
    "override=override[override!=\"\"]\n",
    "\n",
    "conf_dir=\"/home/jhellrung/NNMFit_stuff/configs\"\n",
    "\n",
    "override_paths=\"\"\n",
    "for o in override:\n",
    "    override_paths+=f\"{conf_dir}/override_configs/{o} \"\n",
    "\n",
    "print(f\"--main_config {conf_dir}/main_configs/{main} --analysis_config {conf_dir}/analysis_configs/{analysis} --config_dir {conf_dir} --override_configs {override_paths}\")"
   ]
  }
 ],
 "metadata": {
  "kernelspec": {
   "display_name": "NNMFit",
   "language": "python",
   "name": "python3"
  },
  "language_info": {
   "codemirror_mode": {
    "name": "ipython",
    "version": 3
   },
   "file_extension": ".py",
   "mimetype": "text/x-python",
   "name": "python",
   "nbconvert_exporter": "python",
   "pygments_lexer": "ipython3",
   "version": "3.10.2"
  },
  "orig_nbformat": 4
 },
 "nbformat": 4,
 "nbformat_minor": 2
}
