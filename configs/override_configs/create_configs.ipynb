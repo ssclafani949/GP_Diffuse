{
 "cells": [
  {
   "cell_type": "markdown",
   "metadata": {},
   "source": [
    "One Galactic Model"
   ]
  },
  {
   "cell_type": "code",
   "execution_count": 1,
   "metadata": {},
   "outputs": [],
   "source": [
    "import os\n",
    "models=(\"fermi\", \"kraGamma5\", \"kraGamma50\", \"FangMuraseSNR\", \"FangMuraseConstant\", \"Cringe\")\n",
    "dirpath='/home/jhellrung/NNMFit_stuff/configs/override_configs/galactic_models'\n",
    "\n",
    "for model in models:\n",
    "    \n",
    "    file_path = dirpath+\"/{0}.cfg\".format(model)\n",
    "    if os.path.exists(file_path):\n",
    "        print('file already exists')\n",
    "    else:\n",
    "        with open(file_path, 'w') as fp:\n",
    "            fp.write(\"[main]\\n components =  conventional, astro, prompt, muon, muontemplate_3D, galactictemplate_{0}\".format(model))"
   ]
  },
  {
   "cell_type": "markdown",
   "metadata": {},
   "source": [
    "Different Galactic Models"
   ]
  },
  {
   "cell_type": "code",
   "execution_count": null,
   "metadata": {},
   "outputs": [],
   "source": [
    "import os\n",
    "models=(\"fermi\", \"kraGamma5\", \"kraGamma50\", \"FangMuraseSNR\", \"FangMuraseConstant\", \"Cringe\")\n",
    "dirpath='/home/jhellrung/NNMFit_stuff/configs/override_configs/two_galactic_models'\n",
    "\n",
    "for model in models:\n",
    "    for model_inject in models:\n",
    "        file_path = dirpath+\"/inject_{0}_fit_{1}.cfg\".format(model_inject,model)\n",
    "        if os.path.exists(file_path):\n",
    "            print('file already exists')\n",
    "        else:\n",
    "            with open(file_path, 'w') as fp:\n",
    "                fp.write(\"[main]\\n components = conventional, astro, prompt, muon, muontemplate_3D, galactictemplate_{0}, galactictemplate_{1}_inject\".format(model,model_inject))"
   ]
  }
 ],
 "metadata": {
  "kernelspec": {
   "display_name": "NNMFit",
   "language": "python",
   "name": "python3"
  },
  "language_info": {
   "codemirror_mode": {
    "name": "ipython",
    "version": 3
   },
   "file_extension": ".py",
   "mimetype": "text/x-python",
   "name": "python",
   "nbconvert_exporter": "python",
   "pygments_lexer": "ipython3",
   "version": "3.10.2"
  },
  "orig_nbformat": 4
 },
 "nbformat": 4,
 "nbformat_minor": 2
}
