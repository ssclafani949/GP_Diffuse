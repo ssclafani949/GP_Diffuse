{
 "cells": [
  {
   "cell_type": "markdown",
   "metadata": {},
   "source": [
    "Ra_binning"
   ]
  },
  {
   "cell_type": "code",
   "execution_count": 5,
   "metadata": {},
   "outputs": [
    {
     "name": "stdout",
     "output_type": "stream",
     "text": [
      "file already exists\n",
      "file already exists\n"
     ]
    }
   ],
   "source": [
    "import os\n",
    "dirpath='/home/jhellrung/NNMFit_stuff/override_configs'\n",
    "ras=(1,2,5,10,20,30,60,90,180)\n",
    "for ra in ras:\n",
    "    file_path = dirpath+\"/ra_binning\"+str(ra)+\".cfg\"\n",
    "    if os.path.exists(file_path):\n",
    "        print('file already exists')\n",
    "    else:\n",
    "        # create a file\n",
    "        with open(file_path, 'w') as fp:\n",
    "            # uncomment if you want empty file\n",
    "            fp.write(\"[IC86_pass2_3D_binning]\\n binning_range = [(2,7,51,log), (-1, 0.0872, 34,cos), (0, 6.28319, {},lin)]\".format(ra+1))"
   ]
  },
  {
   "cell_type": "markdown",
   "metadata": {},
   "source": [
    "Oversampling"
   ]
  },
  {
   "cell_type": "code",
   "execution_count": 6,
   "metadata": {},
   "outputs": [
    {
     "name": "stdout",
     "output_type": "stream",
     "text": [
      "file already exists\n"
     ]
    }
   ],
   "source": [
    "import os\n",
    "dirpath='/home/jhellrung/NNMFit_stuff/override_configs'\n",
    "oversamplings=(1,2,5,10,20,30,60,90,180)\n",
    "for oversampling in oversamplings:\n",
    "    file_path = dirpath+\"/oversampling_\"+str(oversampling)+\".cfg\"\n",
    "    if os.path.exists(file_path):\n",
    "        print('file already exists')\n",
    "    else:\n",
    "        with open(file_path, 'w') as fp:\n",
    "            fp.write(\"[IC86_pass2_3D_binning]\\noversampling = galactic_oversampling\\n\\n[galactic_oversampling]\\namount = {}\".format(oversampling))"
   ]
  },
  {
   "cell_type": "markdown",
   "metadata": {},
   "source": [
    "E Binning"
   ]
  },
  {
   "cell_type": "code",
   "execution_count": null,
   "metadata": {},
   "outputs": [],
   "source": [
    "import os\n",
    "dirpath='/home/jhellrung/NNMFit_stuff/override_configs'\n",
    "Es=(1,3,5,7,10,12,15,17,20,22,25,27,30,32,34,36,38,40,42,44,46,48,50,52,54,56,58,60,65,70,75,80,85,90,95,100)\n",
    "for E in Es:\n",
    "    file_path = dirpath+\"/e_binning_\"+str(E)+\".cfg\"\n",
    "    if os.path.exists(file_path):\n",
    "        print('file already exists')\n",
    "    else:\n",
    "        with open(file_path, 'w') as fp:\n",
    "            fp.write(\"[IC86_pass2_2D_binning]\\n class_name = Binning_2D\\n binning_range = [(2,7,{},log), (-1, 0.0872, 34,cos)]\".format(E+1))"
   ]
  },
  {
   "cell_type": "markdown",
   "metadata": {},
   "source": [
    "Z Binning"
   ]
  },
  {
   "cell_type": "code",
   "execution_count": 3,
   "metadata": {},
   "outputs": [],
   "source": [
    "import os\n",
    "dirpath='/home/jhellrung/NNMFit_stuff/override_configs'\n",
    "zeniths=(1,5,10,15,20,25,30,33,35,37,40,42,45,47,50,52,55,57,60,62,65,67,70,75,80,85,90,120,180)\n",
    "for zenith in zeniths:\n",
    "    file_path = dirpath+\"/z_binning_\"+str(zenith)+\".cfg\"\n",
    "    if os.path.exists(file_path):\n",
    "        print('file already exists')\n",
    "    else:\n",
    "        with open(file_path, 'w') as fp:\n",
    "            fp.write(\"[IC86_pass2_2D_binning]\\n class_name = Binning_2D\\n binning_range = [(2,7,51,log), (-1, 0.0872, {},cos)]\".format(zenith+1))"
   ]
  },
  {
   "cell_type": "markdown",
   "metadata": {},
   "source": [
    "Pseudo data"
   ]
  },
  {
   "cell_type": "code",
   "execution_count": null,
   "metadata": {},
   "outputs": [],
   "source": [
    "seeds=(23571, 55606, 9577, 20865, 66740, 82695, 11666, 57003, 89404, 57077, 27053, 35014, 85552, 59856, 14105, 16026, 87320, 66946, 96553, 25712, 50816, 19803, 59964, 58728, 99536, 61829, 70188, 38113, 91891, 70597, 61278, 75525, 17280, 99363, 48774, 40713, 95013, 99107, 68843, 54691, 32513, 26633, 7283, 86645, 97810, 66330, 20124, 87644, 468, 40318)\n",
    "dirpath='/home/jhellrung/NNMFit_stuff/override_configs/pseudodata'\n",
    "\n",
    "for seed in seeds:\n",
    "    file_path = dirpath+\"/pseudodata_seed_{}.cfg\".format(seed)\n",
    "    if os.path.exists(file_path):\n",
    "        print('file already exists')\n",
    "    else:\n",
    "        with open(file_path, 'w') as fp:\n",
    "            fp.write(\"[IC86_pass2]\\n data = /data/user/jhellrung/NNMFit/pseudoexp_ds21047/seed_{0}/pseudoexp_seed_{0}.hdf\".format(seed))\n"
   ]
  },
  {
   "cell_type": "code",
   "execution_count": 2,
   "metadata": {},
   "outputs": [],
   "source": [
    "seeds=(35678, 83552, 48202, 8924, 39634, 60456, 27646, 37048, 37453, 97960, 87115, 68005, 86890, 1315, 70198, 90952, 21286, 72563, 69110, 11300, 70912, 62841, 30977, 14531, 19110, 10430, 84937, 98432, 12764, 67077, 17312, 21079, 84860, 58823, 88404, 70629, 5729, 76545, 8895, 91390, 28326, 84892, 11579, 16202, 46385, 15305, 80764, 67592, 49340, 4404)\n",
    "dirpath='/home/jhellrung/NNMFit_stuff/configs/override_configs/pseudodata_2'\n",
    "\n",
    "for seed in seeds:\n",
    "    file_path = dirpath+\"/pseudodata_seed_{}.cfg\".format(seed)\n",
    "    if os.path.exists(file_path):\n",
    "        print('file already exists')\n",
    "    else:\n",
    "        with open(file_path, 'w') as fp:\n",
    "            fp.write(\"[IC86_pass2]\\n data = /data/user/jhellrung/NNMFit/pseudoexp_eventwise_ds21002_ds21124/seed_{0}/pseudoexp_seed_{0}.hdf\".format(seed))\n"
   ]
  },
  {
   "cell_type": "markdown",
   "metadata": {},
   "source": [
    "Different Galactic Models"
   ]
  },
  {
   "cell_type": "code",
   "execution_count": 1,
   "metadata": {},
   "outputs": [],
   "source": [
    "models=(\"fermi\", \"kraGamma5\", \"kraGamma50\", \"FangMuraseSNR\", \"FangMuraseConstant\", \"AFO_h\", \"AFO_r\")\n",
    "dirpath='/home/jhellrung/NNMFit_stuff/override_configs/different_galactic_models'\n",
    "\n",
    "for model in models:\n",
    "    for model_inject in models:\n",
    "        file_path = dirpath+\"/inject_{0}_fit_{1}.cfg\".format(model_inject,model)\n",
    "        if os.path.exists(file_path):\n",
    "            print('file already exists')\n",
    "        else:\n",
    "            with open(file_path, 'w') as fp:\n",
    "                fp.write(\"[main]\\n components = conventional, astro, prompt, muontemplate, galactictemplate_{0}, galactictemplate_{1}_inject\".format(model,model_inject))\n"
   ]
  }
 ],
 "metadata": {
  "interpreter": {
   "hash": "0aea61027b0598a4072668e46a77e4259ddc5764943827f55824fe4983ff36d1"
  },
  "kernelspec": {
   "display_name": "Python 3.7.5 ('NNMFit1')",
   "language": "python",
   "name": "python3"
  },
  "language_info": {
   "codemirror_mode": {
    "name": "ipython",
    "version": 3
   },
   "file_extension": ".py",
   "mimetype": "text/x-python",
   "name": "python",
   "nbconvert_exporter": "python",
   "pygments_lexer": "ipython3",
   "version": "3.7.5"
  },
  "orig_nbformat": 4
 },
 "nbformat": 4,
 "nbformat_minor": 2
}
