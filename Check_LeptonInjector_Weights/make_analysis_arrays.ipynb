{
 "cells": [
  {
   "cell_type": "code",
   "execution_count": 1,
   "metadata": {},
   "outputs": [],
   "source": [
    "import pandas as pd\n",
    "import numpy as np\n",
    "import histlite as hl\n",
    "import tables\n",
    "import matplotlib.pyplot as plt\n",
    "import os\n",
    "\n",
    "import histlite as hl\n",
    "from csky import plotting"
   ]
  },
  {
   "cell_type": "code",
   "execution_count": 2,
   "metadata": {},
   "outputs": [
    {
     "name": "stderr",
     "output_type": "stream",
     "text": [
      "/home/ssclafani/.vens/py3_venv/lib/python3.7/site-packages/csky/plotting.py:92: MatplotlibDeprecationWarning: Support for setting the 'text.latex.preamble' or 'pgf.preamble' rcParam to a list of strings is deprecated since 3.3 and will be removed two minor releases later; set it to a single string instead.\n",
      "  r'\\SetSymbolFont{operators}   {sans}{OT1}{cmss} {m}{n}'\n"
     ]
    }
   ],
   "source": [
    "plotting.mrichman_mpl()"
   ]
  },
  {
   "cell_type": "code",
   "execution_count": 3,
   "metadata": {},
   "outputs": [
    {
     "name": "stdout",
     "output_type": "stream",
     "text": [
      "Making array for baseline\n"
     ]
    }
   ],
   "source": [
    "sim_nc = {}\n",
    "sim_cc = {}\n",
    "\n",
    "file_dir = '/data/user/ssclafani/PointSource/DNNCascade/i3_processing/version-1.0/DNNCascadeL4__i3_to_hdf5/Lepton-injector/'\n",
    "dataset_id = [ '22430', '22431', '22432', '22437', '22448','22456', '22457', '22458', '22459']\n",
    "baseline_dataset_id  = ['22492', '22493', '22494', '22495', '22496',\n",
    "             '22497', '22498', '22499', '22500']\n",
    "baseline = True\n",
    "if baseline:\n",
    "    dataset_id = baseline_dataset_id\n",
    "    print ('Making array for baseline')\n",
    "else:\n",
    "    print('Making array for snowstorm')\n",
    "for dataset in dataset_id:\n",
    "    sim_cc[dataset] = tables.open_file(file_dir + dataset + f'/DNNCascadeL4__i3_to_hdf5_Lepton-injector_CC_{dataset}_00000000.hdf5')\n",
    "    sim_nc[dataset] = tables.open_file(file_dir + dataset + f'/DNNCascadeL4__i3_to_hdf5_Lepton-injector_NC_{dataset}_00000000.hdf5')\n",
    "\n",
    "    "
   ]
  },
  {
   "cell_type": "code",
   "execution_count": 4,
   "metadata": {},
   "outputs": [],
   "source": [
    "m = sim_cc['22492']"
   ]
  },
  {
   "cell_type": "code",
   "execution_count": 4,
   "metadata": {},
   "outputs": [],
   "source": [
    "weights_cc = {}\n",
    "weights_nc = {}\n",
    "for dataset in dataset_id:\n",
    "    weights_cc[dataset] = pd.read_hdf(f'/data/user/ssclafani/GP_Diffuse/weights/level4/weight_df_0{dataset}_cascade_CC.hdf')\n",
    "    weights_nc[dataset] = pd.read_hdf(f'/data/user/ssclafani/GP_Diffuse/weights/level4/weight_df_0{dataset}_cascade_NC.hdf')"
   ]
  },
  {
   "cell_type": "code",
   "execution_count": 5,
   "metadata": {},
   "outputs": [],
   "source": [
    "weights = {}\n",
    "sim = {}\n",
    "for dataset in dataset_id:\n",
    "    weights[dataset] = pd.concat([weights_cc[dataset], weights_nc[dataset]])\n",
    "    #sim[dataset] = pd.concat([pd.DataFrame(sim_cc[dataset]), pd.DataFrame(sim_nc[dataset])])"
   ]
  },
  {
   "cell_type": "code",
   "execution_count": 6,
   "metadata": {},
   "outputs": [
    {
     "name": "stdout",
     "output_type": "stream",
     "text": [
      "22492\n",
      "(334540, 47)\n",
      "334540\n",
      "22493\n",
      "(62188, 47)\n",
      "62188\n",
      "22494\n",
      "(3956, 47)\n",
      "3956\n",
      "22495\n",
      "(591635, 47)\n",
      "591635\n",
      "22496\n",
      "(97052, 47)\n",
      "97052\n",
      "22497\n",
      "(5152, 47)\n",
      "5152\n",
      "22498\n",
      "(188722, 47)\n",
      "188722\n",
      "22499\n",
      "(36400, 47)\n",
      "36400\n",
      "22500\n",
      "(3600, 47)\n",
      "3600\n"
     ]
    }
   ],
   "source": [
    "for dataset in dataset_id:\n",
    "    print(dataset)\n",
    "    print(weights_cc[dataset].shape)\n",
    "    print(len(sim_cc[dataset].root.event_selection_cascade.cols.azimuth[:]))"
   ]
  },
  {
   "cell_type": "code",
   "execution_count": 7,
   "metadata": {},
   "outputs": [
    {
     "data": {
      "text/plain": [
       "\"w_bfr = sum(1.36e-18 * bfr_array_numu['oneweight'] * (bfr_array_numu['trueE']/1e5)**-2.37)\\nprint(w_bfr)\\na = li['22430']\\nw_le = sum(1.36e-18 * a['oneweight'] * (a['trueE']/1e5)**-2.37)\\na = li['22431']\\nw_me = sum(1.36e-18 * a['oneweight'] * (a['trueE']/1e5)**-2.37)  \\na = li['22432']\\nw_he = sum(1.36e-18 * a['oneweight'] * (a['trueE']/1e5)**-2.37) \\nprint(w_le + w_me)\\n\\na = li['22430']\\nw_le_a = sum(a['w_astro'])/ 86400 / 365 /2\\na = li['22431']\\nw_me_a = sum(a['w_astro']) / 86400 / 365 /2\\na = li['22432']\\nw_he_a = sum(a['w_astro']) / 86400 / 365 /2\\nprint(w_le_a + w_me_a+w_he_a)\\n\\nprint(w_bfr/(w_le + w_me+w_he))\\nprint(w_bfr/(w_le_a + w_me_a+w_he_a))\""
      ]
     },
     "execution_count": 7,
     "metadata": {},
     "output_type": "execute_result"
    }
   ],
   "source": [
    "'''w_bfr = sum(1.36e-18 * bfr_array_numu['oneweight'] * (bfr_array_numu['trueE']/1e5)**-2.37)\n",
    "print(w_bfr)\n",
    "a = li['22430']\n",
    "w_le = sum(1.36e-18 * a['oneweight'] * (a['trueE']/1e5)**-2.37)\n",
    "a = li['22431']\n",
    "w_me = sum(1.36e-18 * a['oneweight'] * (a['trueE']/1e5)**-2.37)  \n",
    "a = li['22432']\n",
    "w_he = sum(1.36e-18 * a['oneweight'] * (a['trueE']/1e5)**-2.37) \n",
    "print(w_le + w_me)\n",
    "\n",
    "a = li['22430']\n",
    "w_le_a = sum(a['w_astro'])/ 86400 / 365 /2\n",
    "a = li['22431']\n",
    "w_me_a = sum(a['w_astro']) / 86400 / 365 /2\n",
    "a = li['22432']\n",
    "w_he_a = sum(a['w_astro']) / 86400 / 365 /2\n",
    "print(w_le_a + w_me_a+w_he_a)\n",
    "\n",
    "print(w_bfr/(w_le + w_me+w_he))\n",
    "print(w_bfr/(w_le_a + w_me_a+w_he_a))'''\n"
   ]
  },
  {
   "cell_type": "code",
   "execution_count": 8,
   "metadata": {},
   "outputs": [],
   "source": [
    "def rename_snowstorm_params(df):\n",
    "    parameter_names=[\n",
    "        'Scattering', 'Absorption', 'AnisotropyScale', \n",
    "        'DOMEfficiency', 'HoleIceForward_Unified_00', \n",
    "        'HoleIceForward_Unified_01',\n",
    "    ]\n",
    "    for i, param in enumerate(parameter_names):\n",
    "        df[param] = df['SnowstormParameters_{:05d}'.format(i)]\n",
    "\n"
   ]
  },
  {
   "cell_type": "code",
   "execution_count": 9,
   "metadata": {},
   "outputs": [],
   "source": [
    "def make_array(dataset, weights, dataset_id, li=True, ss = True, cut_level5=False):\n",
    "\n",
    "    if ss:\n",
    "        dtype = [('azi', '<f8'), ('zen', '<f8'), ('energy', '<f8'), ('dec', '<f8'), \n",
    "                        ('ra', '<f8'), ('trueE', '<f8'), ('trueAzi', '<f8'), ('trueZen', '<f8'),\n",
    "                        ('pf', '<f8'), ('oneweight', '<f8'), ('w_atmo', '<f8'), ('w_astro', '<f8'),\n",
    "                        ('dataset', '<f8'), ('Scattering', '<f8'), ('Absorption', '<f8'), \n",
    "                        ('AnisotropyScale', '<f8'), ('DOMEfficiency', '<f8'), ('HoleIceForward_Unified_00', '<f8'),\n",
    "                        ('HoleIceForward_Unified_01', '<f8')]\n",
    "    else:\n",
    "        dtype = [('azi', '<f8'), ('zen', '<f8'), ('energy', '<f8'), ('dec', '<f8'), \n",
    "                        ('ra', '<f8'), ('trueE', '<f8'), ('trueAzi', '<f8'), ('trueZen', '<f8'),\n",
    "                        ('pf', '<f8'), ('oneweight', '<f8'), ('w_atmo', '<f8'), ('w_astro', '<f8'),\n",
    "                        ('dataset', '<f8')]\n",
    "    if cut_level5:\n",
    "        energy_cut = (dataset.root.EventGeneratorSelectedRecoNN_I3Particle.cols.energy[:] > 500)\n",
    "        # MuonBDT cut\n",
    "        bdt1 = (dataset.root.BDT_bdt_max_depth_4_n_est_2000lr_0_02_seed_3_train_size_50.cols.pred_001[:] < 5e-3)\n",
    "        # CascadeBDT cut\n",
    "        bdt2 = (dataset.root['BDT_bdt_max_depth_4_n_est_1000lr_0.01_seed_3_train_size_50'].cols.pred_001[:] > 0.1)\n",
    "   \n",
    "        # vertex cuts (these help to discard mis-reconstructions)\n",
    "        # cut on radius in x-y-plane is defined in `vertex_radius_cut`\n",
    "        #(('EventGeneratorSelectedRecoNN_I3Particle', 'z'), '>', -700),\n",
    "        #(('EventGeneratorSelectedRecoNN_I3Particle', 'z'), '<', 600),\n",
    "\n",
    "        # Angular Error cut on uncorrected sigma\n",
    "        #(('EventGeneratorSelectedRecoNNCircularUncertainty', ''),<', np.deg2rad(40)),\n",
    "        #bdt1 = (dataset.root.BDT_bdt_max_depth_4_n_est_2000lr_0_02_seed_3_train_size_50.cols.pred_001[:] < 5e-03) \n",
    "        #bdt2 = (dataset.root['BDT_bdt_max_depth_4_n_est_1000lr_0.01_seed_3_train_size_50'].cols.pred_000[:] < .1) \n",
    "        #energy_cut = (dataset.root.EventGeneratorSelectedRecoNN_I3Particle.cols.energy[:] > 500)\n",
    "        mask = bdt1 & bdt2 & energy_cut\n",
    "    else:\n",
    "        mask = dataset.root.EventGeneratorSelectedRecoNN_I3Particle.cols.energy[:] > 1 # all events in level 4\n",
    "    n = len(dataset.root.EventGeneratorSelectedRecoNN_I3Particle.cols.azimuth[:][mask])\n",
    "    a = np.empty(n, dtype)\n",
    "    a['azi'] = azi = dataset.root.EventGeneratorSelectedRecoNN_I3Particle.cols.azimuth[:][mask]\n",
    "    a['zen'] = zen = dataset.root.EventGeneratorSelectedRecoNN_I3Particle.cols.zenith[:][mask]\n",
    "    a['energy'] = dataset.root.EventGeneratorSelectedRecoNN_I3Particle.cols.energy[:][mask]\n",
    "    a['energy'] = np.clip(a['energy'], 1, 1e9)\n",
    "    a['dec'] = zen - np.pi/2\n",
    "    a['ra'] = azi\n",
    "    if li:\n",
    "        print('Using LILW')\n",
    "        a['trueE'] = weights.nu_energy.values[mask]\n",
    "        a['trueAzi'] = weights.nu_azimuth.values[mask]\n",
    "        a['trueZen'] = weights.nu_zenith.values[mask]\n",
    "        a['pf'] = weights.veto_pf.values[mask]\n",
    "        a['oneweight'] = weights.oneweight.values[mask]\n",
    "        a['w_atmo'] = weights['weight1.0_atmo'].values[mask] \n",
    "        #a['w_astro'] = 1.36e-18 * a['oneweight'] * (a['trueE']/1e5)**-2.37 * 86400 * 365 #weights['weight1.0_astro'].values\n",
    "        a['w_astro'] = weights['weight1.0_astro'].values[mask] /2 #Maybe average over NC + CC?\n",
    "        a['dataset'] = np.ones_like(a['trueE']) * int(dataset_id)\n",
    "        if ss:\n",
    "            a['Scattering'] = weights['ice_scattering'].values[mask]\n",
    "            a['Absorption'] = weights['ice_absorption'].values[mask]\n",
    "            a['AnisotropyScale'] = weights['ice_anisotropy_scale'].values[mask]\n",
    "            a['DOMEfficiency'] = weights['dom_efficiency'].values[mask]\n",
    "            a['HoleIceForward_Unified_00'] = weights['hole_ice_forward_p0'].values[mask]\n",
    "            a['HoleIceForward_Unified_01'] = weights['hole_ice_forward_p1'].values[mask]\n",
    "       \n",
    "    else:\n",
    "        print('Using NuGen Weights')\n",
    "        n_files = dataset.root.weights_meta_info.cols.n_files[0]\n",
    "        n_events_per_file = dataset.root.weights_meta_info.cols.n_events_per_run[0]\n",
    "        a['trueE'] = dataset.root.MCPrimary.cols.energy[:][mask]\n",
    "        a['trueAzi'] = dataset.root.MCPrimary.cols.azimuth[:][mask]\n",
    "        a['trueZen'] = dataset.root.MCPrimary.cols.zenith[:][mask]\n",
    "        a['pf'] = dataset.root.nuveto.cols.pf_dnn_cascade_selection_H3a_SIBYLL2_3c_total[:][mask]\n",
    "        a['oneweight'] = dataset.root.I3MCWeightDict.cols.OneWeight[:][mask] / (2*n_files) / n_events_per_file\n",
    "        a['w_atmo'] = dataset.root.weights.cols.MCEq_H3a_sibyll2_3c_total[:][mask] / 2\n",
    "        #a['w_astro'] = 1.66e-18 * a['oneweight'] * (a['trueE']/1e5)**-2.53\n",
    "        a['w_astro'] = 1.36e-18 * a['oneweight'] * (a['trueE']/1e5)**-2.37\n",
    "        a['dataset'] = np.ones_like(a['trueE']) * int(dataset_id)\n",
    "    return a"
   ]
  },
  {
   "cell_type": "code",
   "execution_count": 10,
   "metadata": {},
   "outputs": [
    {
     "name": "stdout",
     "output_type": "stream",
     "text": [
      "Using LILW\n",
      "Using LILW\n",
      "Using LILW\n",
      "Using LILW\n",
      "Using LILW\n",
      "Using LILW\n",
      "Using LILW\n",
      "Using LILW\n",
      "Using LILW\n",
      "Using LILW\n",
      "Using LILW\n",
      "Using LILW\n",
      "Using LILW\n",
      "Using LILW\n",
      "Using LILW\n",
      "Using LILW\n",
      "Using LILW\n",
      "Using LILW\n"
     ]
    }
   ],
   "source": [
    "li = {}\n",
    "for dataset in dataset_id:\n",
    "    li_cc = make_array(sim_cc[dataset], weights_cc[dataset], dataset, cut_level5=True, ss=False)\n",
    "    li_nc = make_array(sim_nc[dataset], weights_nc[dataset], dataset, cut_level5=True, ss=False)\n",
    "\n",
    "    li[dataset] = np.hstack([li_cc, li_nc])\n",
    "    \n"
   ]
  },
  {
   "cell_type": "code",
   "execution_count": 11,
   "metadata": {},
   "outputs": [
    {
     "name": "stdout",
     "output_type": "stream",
     "text": [
      "22492 163346\n",
      "22493 84018\n",
      "22494 8250\n",
      "22495 569138\n",
      "22496 135943\n",
      "22497 7080\n",
      "22498 308745\n",
      "22499 108922\n",
      "22500 10743\n"
     ]
    }
   ],
   "source": [
    "for key in li.keys():\n",
    "    print(key, len(li[key]['trueE']))"
   ]
  },
  {
   "cell_type": "code",
   "execution_count": 12,
   "metadata": {},
   "outputs": [],
   "source": [
    "\n",
    "for i, dataset in enumerate(li.keys()):\n",
    "    if i == 0:\n",
    "        li_allflavor = li[dataset]\n",
    "    else:\n",
    "        li_allflavor = np.concatenate([li_allflavor, li[dataset]])"
   ]
  },
  {
   "cell_type": "code",
   "execution_count": 13,
   "metadata": {},
   "outputs": [],
   "source": [
    "save=True\n",
    "if save:\n",
    "    if baseline:\n",
    "        if not os.path.exists('/data/user/ssclafani/PointSource/DNNCascade/final_level/'):\n",
    "            os.mkdir('/data/user/ssclafani/PointSource/DNNCascade/final_level/')\n",
    "        np.save('/data/user/ssclafani/PointSource/DNNCascade/final_level/lilw_allflavor_baseline.npy', li_allflavor)\n",
    "    else:\n",
    "        if not os.path.exists('/data/user/ssclafani/PointSource/DNNCascade/final_level/'):\n",
    "            os.mkdir('/data/user/ssclafani/PointSource/DNNCascade/final_level/')\n",
    "        np.save('/data/user/ssclafani/PointSource/DNNCascade/final_level/lilw_allflavor_snowstorm.npy', li_allflavor)"
   ]
  },
  {
   "cell_type": "code",
   "execution_count": 15,
   "metadata": {},
   "outputs": [],
   "source": [
    "bfr_numu1 = tables.open_file('/data/ana/PointSource/DNNCascade/i3_processing/version-1.0/DNNCascadeL4__i3_to_hdf5/NuGen/21535/DNNCascadeL4__i3_to_hdf5_NuGen_21535_00000000.hdf5')\n",
    "bfr_numu2 = tables.open_file('/data/ana/PointSource/DNNCascade/i3_processing/version-1.0/DNNCascadeL4__i3_to_hdf5/NuGen/21535/DNNCascadeL4__i3_to_hdf5_NuGen_21535_00001000.hdf5')"
   ]
  },
  {
   "cell_type": "code",
   "execution_count": 16,
   "metadata": {},
   "outputs": [],
   "source": [
    "bfr_nutau1 = tables.open_file('/data/ana/PointSource/DNNCascade/i3_processing/version-1.0/DNNCascadeL4__i3_to_hdf5/NuGen/21536/DNNCascadeL4__i3_to_hdf5_NuGen_21536_00000000.hdf5')\n",
    "bfr_nutau2 = tables.open_file('/data/ana/PointSource/DNNCascade/i3_processing/version-1.0/DNNCascadeL4__i3_to_hdf5/NuGen/21536/DNNCascadeL4__i3_to_hdf5_NuGen_21536_00001000.hdf5')"
   ]
  },
  {
   "cell_type": "code",
   "execution_count": 17,
   "metadata": {},
   "outputs": [],
   "source": [
    "bfr_nue1 = tables.open_file('/data/ana/PointSource/DNNCascade/i3_processing/version-1.0/DNNCascadeL4__i3_to_hdf5/NuGen/21537/DNNCascadeL4__i3_to_hdf5_NuGen_21537_00000000.hdf5')\n",
    "bfr_nue2 = tables.open_file('/data/ana/PointSource/DNNCascade/i3_processing/version-1.0/DNNCascadeL4__i3_to_hdf5/NuGen/21537/DNNCascadeL4__i3_to_hdf5_NuGen_21537_00001000.hdf5')"
   ]
  },
  {
   "cell_type": "code",
   "execution_count": 18,
   "metadata": {},
   "outputs": [
    {
     "name": "stdout",
     "output_type": "stream",
     "text": [
      "0.00012433468491479137\n",
      "0.00012588123509548512\n"
     ]
    }
   ],
   "source": [
    "print(sum(bfr_nue1.root.weights.cols.MCEq_H3a_sibyll2_3c_total[:]))\n",
    "print(sum(bfr_nue2.root.weights.cols.MCEq_H3a_sibyll2_3c_total[:]))"
   ]
  },
  {
   "cell_type": "code",
   "execution_count": 19,
   "metadata": {},
   "outputs": [
    {
     "name": "stdout",
     "output_type": "stream",
     "text": [
      "Using NuGen Weights\n",
      "Using NuGen Weights\n",
      "Using NuGen Weights\n",
      "Using NuGen Weights\n",
      "Using NuGen Weights\n",
      "Using NuGen Weights\n"
     ]
    }
   ],
   "source": [
    "bfr_array_numu1 = make_array(bfr_numu1, weights, '21535', li=False, cut_level5=True)\n",
    "bfr_array_numu2 = make_array(bfr_numu2, weights, '21535', li=False, cut_level5=True)\n",
    "\n",
    "bfr_array_nue1 = make_array(bfr_nue1, weights, '21537', li=False, cut_level5=True)\n",
    "bfr_array_nue2 = make_array(bfr_nue2, weights, '21537', li=False, cut_level5=True)\n",
    "\n",
    "bfr_array_nutau1 = make_array(bfr_nutau1, weights, '21536', li=False, cut_level5=True)\n",
    "bfr_array_nutau2 = make_array(bfr_nutau2, weights, '21536', li=False, cut_level5=True)"
   ]
  },
  {
   "cell_type": "code",
   "execution_count": 20,
   "metadata": {},
   "outputs": [],
   "source": [
    "bfr_array_numu = np.concatenate([bfr_array_numu1, bfr_array_numu2])\n",
    "bfr_array_nue = np.concatenate([bfr_array_nue1, bfr_array_nue2])\n",
    "bfr_array_nutau = np.concatenate([bfr_array_nutau1, bfr_array_nutau2])"
   ]
  },
  {
   "cell_type": "code",
   "execution_count": 21,
   "metadata": {},
   "outputs": [],
   "source": [
    "bfr_allflavor = np.concatenate([bfr_array_numu1, bfr_array_nue1, bfr_array_nutau1, bfr_array_numu2, bfr_array_nue2, bfr_array_nutau2])"
   ]
  },
  {
   "cell_type": "code",
   "execution_count": 22,
   "metadata": {},
   "outputs": [],
   "source": [
    "livetime = 86400 * 365"
   ]
  },
  {
   "cell_type": "code",
   "execution_count": 24,
   "metadata": {},
   "outputs": [
    {
     "data": {
      "image/png": "[encoded data removed]",
      "text/plain": [
       "<Figure size 900x540 with 2 Axes>"
      ]
     },
     "metadata": {},
     "output_type": "display_data"
    }
   ],
   "source": [
    "bins = 35\n",
    "range = (100,1e7)\n",
    "flavors = ['numu', 'nue', 'nutau']\n",
    "colors  = ['red', 'blue', 'green']\n",
    "lss = ['-', '--']\n",
    "fig, (ax1, ax2) = plt.subplots(2,1, figsize=(7.5,4.5), gridspec_kw = {'height_ratios':[3, 1]}, sharex=True)\n",
    "fig.set_facecolor('w')\n",
    "\n",
    "\n",
    "for i, flavor in enumerate(flavors):\n",
    "    \n",
    "    if flavor == 'numu':\n",
    "        if baseline:\n",
    "            datasets = [ '22492', '22493', '22494']\n",
    "        else:\n",
    "            datasets = ['22430', '22431', '22432',]\n",
    "        bfr_array = bfr_array_numu\n",
    "        flavor_name = r'$\\nu_\\mu$'\n",
    "    elif flavor == 'nue':\n",
    "        if baseline:\n",
    "            datasets = [ '22495', '22496', '22497']\n",
    "        else:\n",
    "            datasets = ['22437', '22448', '22456']\n",
    "        bfr_array = bfr_array_nue\n",
    "        flavor_name = r'$\\nu_e$'\n",
    "    elif flavor == 'nutau':\n",
    "        if baseline:\n",
    "            datasets = ['22498', '22499', '22500']\n",
    "        else:\n",
    "            datasets = ['22457', '22458', '22459']\n",
    "            bfr_array = bfr_array_nutau\n",
    "        flavor_name = r'$\\nu_\\tau$'\n",
    "    h_bfr = hl.hist((np.nan_to_num(bfr_array['trueE'])), \n",
    "                    weights=(((bfr_array['w_astro'] + bfr_array['w_atmo'])* livetime)),\n",
    "                     bins=bins, range=range, log=True);\n",
    "    hl.plot1d(ax1, h_bfr, lw=2, color = colors[i], ls='--', label='BFRv1 Nugen Level 5 {}'.format(flavor_name))        \n",
    "    for j, dataset in enumerate(datasets):    \n",
    "            li_array = li[dataset]\n",
    "            h_li = hl.hist((np.nan_to_num(li_array['trueE'])), \n",
    "                           weights=(li_array['w_astro'] + li_array['w_atmo'] ) , \n",
    "                           bins=bins, range=range, log=True);\n",
    "            if j == 0:\n",
    "                hl.plot1d(ax1, h_li, lw=2, color = colors[i], ls='-', label='FTP LI Level 5 {}'.format(flavor_name))\n",
    "                hl.plot1d(ax2, h_li/h_bfr, lw=2, color = colors[i])\n",
    "            else: \n",
    "                hl.plot1d(ax1, h_li, lw=2, color = colors[i], ls='-', )\n",
    "                hl.plot1d(ax2, h_li/h_bfr, lw=2, color = colors[i])\n",
    "\n",
    "\n",
    "\n",
    "    ax1.loglog()\n",
    "    ax2.semilogx()\n",
    "\n",
    "    plt.xlabel('True Energy [GeV]')\n",
    "    ax1.set_title('Level 5 LILW vs NuGen')\n",
    "    ax1.set_ylabel('Events per Year')\n",
    "    ax1.legend(bbox_to_anchor=(1.01,1))\n",
    "    ax1.set_xlim(range)\n",
    "    #plt.xlim(1e2,1e7)\n",
    "    ax2.set_ylim(.8,1.2)\n",
    "    ax2.set_ylabel('LILW/BFR')\n",
    "    ax2.axhline(1, c='k', ls='--')"
   ]
  },
  {
   "cell_type": "code",
   "execution_count": null,
   "metadata": {},
   "outputs": [],
   "source": [
    "bins = 35\n",
    "range=(0,360)\n",
    "fig, (ax1, ax2) = plt.subplots(2,1, figsize=(7.5,4.5), gridspec_kw = {'height_ratios':[3, 1]}, sharex=True)\n",
    "fig.set_facecolor('w')\n",
    "\n",
    "h_li = hl.hist(np.degrees(li_allflavor['azi']), weights=li_allflavor['w_atmo'], \n",
    "               bins=bins, range=range);\n",
    "h_bfr = hl.hist(np.degrees(bfr_allflavor['azi']), weights=(bfr_allflavor['w_atmo'] ) * livetime,\n",
    "         bins=bins, range=range);\n",
    "\n",
    "hl.plot1d(ax1, h_li, lw=2, label='FTP Lepton Injector')\n",
    "hl.plot1d(ax1, h_bfr, lw=2, label='BFRv1 Nugen')\n",
    "hl.plot1d(ax2, h_li/h_bfr)\n",
    "plt.xlabel('Azimuth')\n",
    "ax1.set_title('Simulation Comparison Lepton-Injector vs BFR')\n",
    "ax1.set_ylabel('Events per Year')\n",
    "ax1.legend()\n",
    "plt.xlim(0,360)\n",
    "ax1.set_ylim(0)\n",
    "ax2.set_ylim(.1,1.5)\n",
    "ax2.axhline(1, c='k', ls='--')"
   ]
  },
  {
   "cell_type": "code",
   "execution_count": null,
   "metadata": {},
   "outputs": [],
   "source": [
    "bins = 35\n",
    "range=(-1,1)\n",
    "fig, (ax1, ax2) = plt.subplots(2,1, figsize=(7.5,4.5), gridspec_kw = {'height_ratios':[3, 1]}, sharex=True)\n",
    "fig.set_facecolor('w')\n",
    "\n",
    "h_li = hl.hist(np.cos(li_allflavor['zen']), weights=li_allflavor['w_atmo'] * li_allflavor['pf'] + li_allflavor['w_astro'], \n",
    "               bins=bins, range=range);\n",
    "h_bfr = hl.hist(np.cos(bfr_allflavor['zen']), weights=(bfr_allflavor['w_atmo'] * bfr_allflavor['pf']+ bfr_allflavor['w_astro']) * livetime,\n",
    "         bins=bins, range=range);\n",
    "\n",
    "hl.plot1d(ax1, h_li, lw=2, label='FTP Lepton Injector Level 4 NuMu')\n",
    "hl.plot1d(ax1, h_bfr, lw=2, label='BFRv1 Nugen Level 4 NuMu')\n",
    "hl.plot1d(ax2, h_li/h_bfr)\n",
    "plt.xlabel('Azimuth')\n",
    "ax1.set_title('Simulation Comparison Lepton-Injector vs BFR')\n",
    "ax1.set_ylabel('Events per Year')\n",
    "ax1.legend()\n",
    "plt.xlim(-1,1)\n",
    "ax1.set_ylim(0)\n",
    "ax2.set_ylim(.5,1.5)\n",
    "ax2.axhline(1, c='k', ls='--')"
   ]
  },
  {
   "cell_type": "code",
   "execution_count": null,
   "metadata": {},
   "outputs": [],
   "source": [
    "\n",
    "for i, dataset in enumerate(li.keys()):\n",
    "    if i == 0:\n",
    "        if dataset in [ '22430', '22431', '22437', '22448', '22457', '22458', ]:\n",
    "            li_le_me = li[dataset]\n",
    "    else:\n",
    "        if dataset in [ '22430', '22431', '22437', '22448', '22457', '22458']:\n",
    "            li_le_me = np.concatenate([li_le_me, li[dataset]])"
   ]
  },
  {
   "cell_type": "code",
   "execution_count": null,
   "metadata": {},
   "outputs": [],
   "source": [
    "mask = (bfr_allflavor['trueE'] < 1e6)\n",
    "bfr_le_me = bfr_allflavor[mask]"
   ]
  },
  {
   "cell_type": "code",
   "execution_count": null,
   "metadata": {},
   "outputs": [],
   "source": [
    "bins = 35\n",
    "range=(100,1e9)\n",
    "fig, (ax1, ax2) = plt.subplots(2,1, figsize=(7.5,4.5), gridspec_kw = {'height_ratios':[3, 1]}, sharex=True)\n",
    "fig.set_facecolor('w')\n",
    "\n",
    "h_li = hl.hist(li_le_me['energy'], \n",
    "               weights=li_le_me['w_atmo'] * li_le_me['pf'] + li_le_me['w_astro'], \n",
    "               bins=bins, range=range, log=True);\n",
    "h_bfr = hl.hist(bfr_le_me['energy'], \n",
    "                weights=(bfr_le_me['w_atmo'] * bfr_le_me['pf']+ bfr_le_me['w_astro']) * livetime,\n",
    "         bins=bins, range=range, log=True);\n",
    "\n",
    "hl.plot1d(ax1, h_li, lw=2, label='FTP Lepton Injector Level 4 NuMu')\n",
    "hl.plot1d(ax1, h_bfr, lw=2, label='BFRv1 Nugen Level 4 NuMu')\n",
    "hl.plot1d(ax2, h_li/h_bfr)\n",
    "plt.xlabel('Reco Energy [GeV]')\n",
    "ax1.set_title('Simulation Comparison Lepton-Injector vs BFR')\n",
    "ax1.set_ylabel('Events per Year')\n",
    "ax1.legend()\n",
    "ax1.loglog()\n",
    "ax1.set_ylim(0)\n",
    "ax2.set_ylim(.5,1.5)\n",
    "ax2.axhline(1, c='k', ls='--')"
   ]
  },
  {
   "cell_type": "code",
   "execution_count": null,
   "metadata": {},
   "outputs": [],
   "source": []
  },
  {
   "cell_type": "code",
   "execution_count": null,
   "metadata": {},
   "outputs": [],
   "source": []
  },
  {
   "cell_type": "code",
   "execution_count": null,
   "metadata": {},
   "outputs": [],
   "source": []
  },
  {
   "cell_type": "code",
   "execution_count": null,
   "metadata": {},
   "outputs": [],
   "source": []
  },
  {
   "cell_type": "code",
   "execution_count": null,
   "metadata": {},
   "outputs": [],
   "source": []
  },
  {
   "cell_type": "code",
   "execution_count": null,
   "metadata": {},
   "outputs": [],
   "source": []
  },
  {
   "cell_type": "code",
   "execution_count": null,
   "metadata": {},
   "outputs": [],
   "source": []
  },
  {
   "cell_type": "code",
   "execution_count": null,
   "metadata": {},
   "outputs": [],
   "source": []
  },
  {
   "cell_type": "code",
   "execution_count": null,
   "metadata": {},
   "outputs": [],
   "source": []
  },
  {
   "cell_type": "code",
   "execution_count": null,
   "metadata": {},
   "outputs": [],
   "source": []
  },
  {
   "cell_type": "code",
   "execution_count": null,
   "metadata": {},
   "outputs": [],
   "source": []
  }
 ],
 "metadata": {
  "kernelspec": {
   "display_name": "icerec3",
   "language": "python",
   "name": "icerec3"
  },
  "language_info": {
   "codemirror_mode": {
    "name": "ipython",
    "version": 3
   },
   "file_extension": ".py",
   "mimetype": "text/x-python",
   "name": "python",
   "nbconvert_exporter": "python",
   "pygments_lexer": "ipython3",
   "version": "3.7.5"
  }
 },
 "nbformat": 4,
 "nbformat_minor": 4
}
